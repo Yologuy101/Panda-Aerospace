{
 "cells": [
  {
   "cell_type": "code",
   "execution_count": 92,
   "source": [
    "import numpy as np\r\n",
    "from PIL import Image"
   ],
   "outputs": [],
   "metadata": {}
  },
  {
   "cell_type": "code",
   "execution_count": 103,
   "source": [
    "image = Image.open(\"Image\\Masked\\Example 1 zoomed #2- maasked.png\")\r\n",
    "data = np.asarray(image)\r\n",
    "print(data.size)\r\n",
    "print(data.shape)\r\n"
   ],
   "outputs": [
    {
     "output_type": "stream",
     "name": "stdout",
     "text": [
      "1063605\n",
      "(485, 731, 3)\n"
     ]
    }
   ],
   "metadata": {}
  },
  {
   "cell_type": "code",
   "execution_count": 113,
   "source": [
    "section = [(0,0), (485 ,731)]"
   ],
   "outputs": [],
   "metadata": {}
  },
  {
   "cell_type": "code",
   "execution_count": 115,
   "source": [
    "shape = data.shape\r\n",
    "size = (abs(section[0][0]- section[1][0]), abs(section[0][1] - section[1][1]))\r\n",
    "\r\n",
    "startx = section[0][1]\r\n",
    "starty = section[0][0]\r\n",
    "\r\n",
    "pxsize = size[0] * size[1]\r\n",
    "shape\r\n",
    "\r\n",
    "\r\n"
   ],
   "outputs": [
    {
     "output_type": "execute_result",
     "data": {
      "text/plain": [
       "(485, 731, 3)"
      ]
     },
     "metadata": {},
     "execution_count": 115
    }
   ],
   "metadata": {}
  },
  {
   "cell_type": "code",
   "execution_count": 119,
   "source": [
    "count = 0\r\n",
    "\r\n",
    "for i in range(size[0]):\r\n",
    "    for j in range(size[1]):\r\n",
    "        px = data[i+startx][j+starty]\r\n",
    "        if px[1] != 0:\r\n",
    "            count += 1\r\n",
    "count\r\n",
    "485*731"
   ],
   "outputs": [
    {
     "output_type": "execute_result",
     "data": {
      "text/plain": [
       "354535"
      ]
     },
     "metadata": {},
     "execution_count": 119
    }
   ],
   "metadata": {}
  },
  {
   "cell_type": "code",
   "execution_count": 109,
   "source": [
    "count/pxsize *100"
   ],
   "outputs": [
    {
     "output_type": "execute_result",
     "data": {
      "text/plain": [
       "28.986982949497232"
      ]
     },
     "metadata": {},
     "execution_count": 109
    }
   ],
   "metadata": {}
  }
 ],
 "metadata": {
  "orig_nbformat": 4,
  "language_info": {
   "name": "python",
   "version": "3.9.7",
   "mimetype": "text/x-python",
   "codemirror_mode": {
    "name": "ipython",
    "version": 3
   },
   "pygments_lexer": "ipython3",
   "nbconvert_exporter": "python",
   "file_extension": ".py"
  },
  "kernelspec": {
   "name": "python3",
   "display_name": "Python 3.9.7 64-bit ('ACI': conda)"
  },
  "interpreter": {
   "hash": "549b25766603f02caad3ad7929c19263794b77b98765da8629f8188a488a8bad"
  }
 },
 "nbformat": 4,
 "nbformat_minor": 2
}